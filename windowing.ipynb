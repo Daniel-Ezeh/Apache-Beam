{
 "cells": [
  {
   "cell_type": "markdown",
   "metadata": {},
   "source": [
    "# Windowing -- _Tour of Beam_\n",
    "\n",
    "Sometimes, we want to [aggregate](https://beam.apache.org/documentation/transforms/python/overview/#aggregation) data, like `GroupByKey` or `Combine`, only at certain intervals, like hourly or daily, instead of processing the entire `PCollection` of data only once.\n",
    "\n",
    "We might want to emit a [moving average](https://en.wikipedia.org/wiki/Moving_average) as we're processing data.\n",
    "\n",
    "Maybe we want to analyze the user experience for a certain task in a web app, it would be nice to get the app events by sessions of activity.\n",
    "\n",
    "Or we could be running a streaming pipeline, and there is no end to the data, so how can we aggregate data?\n",
    "\n",
    "_Windows_ in Beam allow us to process only certain data intervals at a time.\n",
    "In this notebook, we go through different ways of windowing our pipeline.\n"
   ]
  },
  {
   "cell_type": "code",
   "execution_count": 1,
   "metadata": {},
   "outputs": [],
   "source": [
    "import apache_beam as beam\n",
    "\n",
    "def human_readable_window(window) -> str:\n",
    "    '''Formats a window object into a human readable string.'''\n",
    "    if isinstance(window, beam.window.GlobalWindow):\n",
    "        return str(window)\n",
    "    return f\"{window.start.to_utc_datetime()} - {window.end.to_utc_datetime()}\"\n",
    "\n",
    "class PrintElementInfo(beam.DoFn):\n",
    "    \"\"\"Prints an element with its Window information.\"\"\"\n",
    "    def process(self, element, timestamp=beam.DoFn.TimestampParam, window=beam.DoFn.WindowParam):\n",
    "        print(f\"[{human_readable_window(window)}] {timestamp.to_utc_datetime()} -- {element}\")\n",
    "        yield element\n",
    "\n",
    "@beam.ptransform_fn\n",
    "def PrintWindowInfo(pcollection):\n",
    "    \"\"\"Prints the Window information with how many elements landed in that window.\"\"\"\n",
    "    class PrintCountsInfo(beam.DoFn):\n",
    "        def process(self, num_elements, window=beam.DoFn.WindowParam):\n",
    "            print(f\">> Window [{human_readable_window(window)}] has {num_elements} elements.\")\n",
    "            yield num_elements\n",
    "\n",
    "    return (\n",
    "        pcollection \n",
    "        | \"Count elements per window\" >> beam.combiners.Count.Globally().without_defaults()\n",
    "        | \"Print counts info\" >> beam.ParDo(PrintCountsInfo())\n",
    "    )\n",
    "\n"
   ]
  },
  {
   "cell_type": "markdown",
   "metadata": {},
   "source": [
    "### Creating some data to use in the examples."
   ]
  },
  {
   "cell_type": "code",
   "execution_count": 5,
   "metadata": {},
   "outputs": [
    {
     "name": "stdout",
     "output_type": "stream",
     "text": [
      "March Equinox 2021\n",
      "Super full moon\n",
      "Micro new moon\n",
      "Super full moon, total lunar eclipse\n",
      "June Solstice 2021\n",
      "Blue moon\n",
      "September Equinox 2021\n",
      "Super new moon\n",
      "Micro full moon, partial lunar eclipse\n",
      "Super new moon\n",
      "Micro full moon\n",
      "December Solstice 2021\n"
     ]
    }
   ],
   "source": [
    "import time\n",
    "from apache_beam.options.pipeline_options import PipelineOptions\n",
    "\n",
    "def to_unix_time(time_str: str, time_format='%Y-%m-%d %H:%M:%S') -> int:\n",
    "    \"\"\"Converts a time string to Unix time.\"\"\"\n",
    "    time_tuple = time.strptime(time_str, time_format)\n",
    "    return int(time.mktime(time_tuple))\n",
    "\n",
    "@beam.ptransform_fn\n",
    "@beam.typehints.with_input_types(beam.pvalue.PBegin)\n",
    "@beam.typehints.with_output_types(beam.window.TimestampedValue)\n",
    "def AstronomicalEvents(pipeline):\n",
    "    return(\n",
    "        pipeline\n",
    "        | \"Create data\" >> beam.Create([\n",
    "          ('2021-03-20 03:37:00', 'March Equinox 2021'),\n",
    "          ('2021-04-26 22:31:00', 'Super full moon'),\n",
    "          ('2021-05-11 13:59:00', 'Micro new moon'),\n",
    "          ('2021-05-26 06:13:00', 'Super full moon, total lunar eclipse'),\n",
    "          ('2021-06-20 22:32:00', 'June Solstice 2021'),\n",
    "          ('2021-08-22 07:01:00', 'Blue moon'),\n",
    "          ('2021-09-22 14:21:00', 'September Equinox 2021'),\n",
    "          ('2021-11-04 15:14:00', 'Super new moon'),\n",
    "          ('2021-11-19 02:57:00', 'Micro full moon, partial lunar eclipse'),\n",
    "          ('2021-12-04 01:43:00', 'Super new moon'),\n",
    "          ('2021-12-18 10:35:00', 'Micro full moon'),\n",
    "          ('2021-12-21 09:59:00', 'December Solstice 2021'),\n",
    "      ])\n",
    "      | \"With timestamps\" >> beam.MapTuple(\n",
    "          lambda timestamp, element:\n",
    "            beam.window.TimestampedValue(element, to_unix_time(timestamp))\n",
    "      )\n",
    "    )\n",
    "\n",
    "\n",
    "# Lets see how the data looks like.\n",
    "beam_options = PipelineOptions(flags=[], type_check_additional='all')\n",
    "with beam.Pipeline(options=beam_options) as pipeline:\n",
    "    (\n",
    "        pipeline\n",
    "        | \"Astronomical events\" >> AstronomicalEvents()\n",
    "        | \"Print element\" >> beam.Map(print)\n",
    "    )"
   ]
  },
  {
   "cell_type": "markdown",
   "metadata": {},
   "source": [
    "### Fixed time windows"
   ]
  },
  {
   "cell_type": "code",
   "execution_count": 6,
   "metadata": {},
   "outputs": [
    {
     "name": "stdout",
     "output_type": "stream",
     "text": [
      "window_size: 7776000.0 seconds\n",
      "[2021-01-03 00:00:00 - 2021-04-03 00:00:00] 2021-03-20 02:37:00 -- March Equinox 2021\n",
      "[2021-04-03 00:00:00 - 2021-07-02 00:00:00] 2021-04-26 21:31:00 -- Super full moon\n",
      "[2021-04-03 00:00:00 - 2021-07-02 00:00:00] 2021-05-11 12:59:00 -- Micro new moon\n",
      "[2021-04-03 00:00:00 - 2021-07-02 00:00:00] 2021-05-26 05:13:00 -- Super full moon, total lunar eclipse\n",
      "[2021-04-03 00:00:00 - 2021-07-02 00:00:00] 2021-06-20 21:32:00 -- June Solstice 2021\n",
      "[2021-07-02 00:00:00 - 2021-09-30 00:00:00] 2021-08-22 06:01:00 -- Blue moon\n",
      "[2021-07-02 00:00:00 - 2021-09-30 00:00:00] 2021-09-22 13:21:00 -- September Equinox 2021\n",
      "[2021-09-30 00:00:00 - 2021-12-29 00:00:00] 2021-11-04 14:14:00 -- Super new moon\n",
      "[2021-09-30 00:00:00 - 2021-12-29 00:00:00] 2021-11-19 01:57:00 -- Micro full moon, partial lunar eclipse\n",
      "[2021-09-30 00:00:00 - 2021-12-29 00:00:00] 2021-12-04 00:43:00 -- Super new moon\n",
      "[2021-09-30 00:00:00 - 2021-12-29 00:00:00] 2021-12-18 09:35:00 -- Micro full moon\n",
      "[2021-09-30 00:00:00 - 2021-12-29 00:00:00] 2021-12-21 08:59:00 -- December Solstice 2021\n",
      ">> Window [2021-01-03 00:00:00 - 2021-04-03 00:00:00] has 1 elements.\n",
      ">> Window [2021-04-03 00:00:00 - 2021-07-02 00:00:00] has 4 elements.\n",
      ">> Window [2021-07-02 00:00:00 - 2021-09-30 00:00:00] has 2 elements.\n",
      ">> Window [2021-09-30 00:00:00 - 2021-12-29 00:00:00] has 5 elements.\n"
     ]
    }
   ],
   "source": [
    "import apache_beam as beam\n",
    "from datetime import timedelta\n",
    "\n",
    "# Fixed-sized windows of approximately 3 months.\n",
    "window_size = timedelta(days=3*30).total_seconds() # in seconds\n",
    "print(f\"window_size: {window_size} seconds\")\n",
    "\n",
    "with beam.Pipeline() as pipeline:\n",
    "    elements = (\n",
    "        pipeline\n",
    "        | \"Astronomical events\" >> AstronomicalEvents()\n",
    "        | \"Fixed windows\" >> beam.WindowInto(beam.window.FixedWindows(window_size))\n",
    "        | \"Print element info\" >> beam.ParDo(PrintElementInfo())\n",
    "        | \"Print window info\" >> PrintWindowInfo()\n",
    "    )"
   ]
  },
  {
   "cell_type": "markdown",
   "metadata": {},
   "source": [
    "### Sliding time windows"
   ]
  },
  {
   "cell_type": "code",
   "execution_count": 7,
   "metadata": {},
   "outputs": [
    {
     "name": "stdout",
     "output_type": "stream",
     "text": [
      "window_size: 7776000.0 seconds\n",
      "window_period: 2592000.0 seconds\n",
      "[2021-03-04 00:00:00 - 2021-06-02 00:00:00] 2021-03-20 02:37:00 -- March Equinox 2021\n",
      "[2021-02-02 00:00:00 - 2021-05-03 00:00:00] 2021-03-20 02:37:00 -- March Equinox 2021\n",
      "[2021-01-03 00:00:00 - 2021-04-03 00:00:00] 2021-03-20 02:37:00 -- March Equinox 2021\n",
      "[2021-04-03 00:00:00 - 2021-07-02 00:00:00] 2021-04-26 21:31:00 -- Super full moon\n",
      "[2021-03-04 00:00:00 - 2021-06-02 00:00:00] 2021-04-26 21:31:00 -- Super full moon\n",
      "[2021-02-02 00:00:00 - 2021-05-03 00:00:00] 2021-04-26 21:31:00 -- Super full moon\n",
      "[2021-05-03 00:00:00 - 2021-08-01 00:00:00] 2021-05-11 12:59:00 -- Micro new moon\n",
      "[2021-04-03 00:00:00 - 2021-07-02 00:00:00] 2021-05-11 12:59:00 -- Micro new moon\n",
      "[2021-03-04 00:00:00 - 2021-06-02 00:00:00] 2021-05-11 12:59:00 -- Micro new moon\n",
      "[2021-05-03 00:00:00 - 2021-08-01 00:00:00] 2021-05-26 05:13:00 -- Super full moon, total lunar eclipse\n",
      "[2021-04-03 00:00:00 - 2021-07-02 00:00:00] 2021-05-26 05:13:00 -- Super full moon, total lunar eclipse\n",
      "[2021-03-04 00:00:00 - 2021-06-02 00:00:00] 2021-05-26 05:13:00 -- Super full moon, total lunar eclipse\n",
      "[2021-06-02 00:00:00 - 2021-08-31 00:00:00] 2021-06-20 21:32:00 -- June Solstice 2021\n",
      "[2021-05-03 00:00:00 - 2021-08-01 00:00:00] 2021-06-20 21:32:00 -- June Solstice 2021\n",
      "[2021-04-03 00:00:00 - 2021-07-02 00:00:00] 2021-06-20 21:32:00 -- June Solstice 2021\n",
      "[2021-08-01 00:00:00 - 2021-10-30 00:00:00] 2021-08-22 06:01:00 -- Blue moon\n",
      "[2021-07-02 00:00:00 - 2021-09-30 00:00:00] 2021-08-22 06:01:00 -- Blue moon\n",
      "[2021-06-02 00:00:00 - 2021-08-31 00:00:00] 2021-08-22 06:01:00 -- Blue moon\n",
      "[2021-08-31 00:00:00 - 2021-11-29 00:00:00] 2021-09-22 13:21:00 -- September Equinox 2021\n",
      "[2021-08-01 00:00:00 - 2021-10-30 00:00:00] 2021-09-22 13:21:00 -- September Equinox 2021\n",
      "[2021-07-02 00:00:00 - 2021-09-30 00:00:00] 2021-09-22 13:21:00 -- September Equinox 2021\n",
      "[2021-10-30 00:00:00 - 2022-01-28 00:00:00] 2021-11-04 14:14:00 -- Super new moon\n",
      "[2021-09-30 00:00:00 - 2021-12-29 00:00:00] 2021-11-04 14:14:00 -- Super new moon\n",
      "[2021-08-31 00:00:00 - 2021-11-29 00:00:00] 2021-11-04 14:14:00 -- Super new moon\n",
      "[2021-10-30 00:00:00 - 2022-01-28 00:00:00] 2021-11-19 01:57:00 -- Micro full moon, partial lunar eclipse\n",
      "[2021-09-30 00:00:00 - 2021-12-29 00:00:00] 2021-11-19 01:57:00 -- Micro full moon, partial lunar eclipse\n",
      "[2021-08-31 00:00:00 - 2021-11-29 00:00:00] 2021-11-19 01:57:00 -- Micro full moon, partial lunar eclipse\n",
      "[2021-11-29 00:00:00 - 2022-02-27 00:00:00] 2021-12-04 00:43:00 -- Super new moon\n",
      "[2021-10-30 00:00:00 - 2022-01-28 00:00:00] 2021-12-04 00:43:00 -- Super new moon\n",
      "[2021-09-30 00:00:00 - 2021-12-29 00:00:00] 2021-12-04 00:43:00 -- Super new moon\n",
      "[2021-11-29 00:00:00 - 2022-02-27 00:00:00] 2021-12-18 09:35:00 -- Micro full moon\n",
      "[2021-10-30 00:00:00 - 2022-01-28 00:00:00] 2021-12-18 09:35:00 -- Micro full moon\n",
      "[2021-09-30 00:00:00 - 2021-12-29 00:00:00] 2021-12-18 09:35:00 -- Micro full moon\n",
      "[2021-11-29 00:00:00 - 2022-02-27 00:00:00] 2021-12-21 08:59:00 -- December Solstice 2021\n",
      "[2021-10-30 00:00:00 - 2022-01-28 00:00:00] 2021-12-21 08:59:00 -- December Solstice 2021\n",
      "[2021-09-30 00:00:00 - 2021-12-29 00:00:00] 2021-12-21 08:59:00 -- December Solstice 2021\n",
      ">> Window [2021-03-04 00:00:00 - 2021-06-02 00:00:00] has 4 elements.\n",
      ">> Window [2021-02-02 00:00:00 - 2021-05-03 00:00:00] has 2 elements.\n",
      ">> Window [2021-01-03 00:00:00 - 2021-04-03 00:00:00] has 1 elements.\n",
      ">> Window [2021-04-03 00:00:00 - 2021-07-02 00:00:00] has 4 elements.\n",
      ">> Window [2021-05-03 00:00:00 - 2021-08-01 00:00:00] has 3 elements.\n",
      ">> Window [2021-06-02 00:00:00 - 2021-08-31 00:00:00] has 2 elements.\n",
      ">> Window [2021-08-01 00:00:00 - 2021-10-30 00:00:00] has 2 elements.\n",
      ">> Window [2021-07-02 00:00:00 - 2021-09-30 00:00:00] has 2 elements.\n",
      ">> Window [2021-08-31 00:00:00 - 2021-11-29 00:00:00] has 3 elements.\n",
      ">> Window [2021-10-30 00:00:00 - 2022-01-28 00:00:00] has 5 elements.\n",
      ">> Window [2021-09-30 00:00:00 - 2021-12-29 00:00:00] has 5 elements.\n",
      ">> Window [2021-11-29 00:00:00 - 2022-02-27 00:00:00] has 3 elements.\n"
     ]
    }
   ],
   "source": [
    "import apache_beam as beam\n",
    "from datetime import timedelta\n",
    "\n",
    "# Sliding windows of approximately 3 months every month.\n",
    "window_size = timedelta(days=3*30).total_seconds() # in seconds\n",
    "window_period = timedelta(days=30).total_seconds() # in seconds\n",
    "print(f\"window_size: {window_size} seconds\")\n",
    "print(f\"window_period: {window_period} seconds\")\n",
    "\n",
    "with beam.Pipeline() as pipeline:\n",
    "    (\n",
    "        pipeline\n",
    "        | \"Astronomical events\" >> AstronomicalEvents()\n",
    "        | \"Sliding windows\" >> beam.WindowInto(\n",
    "            beam.window.SlidingWindows(window_size, window_period)\n",
    "        )\n",
    "        | \"Print element info\" >> beam.ParDo(PrintElementInfo())\n",
    "        | \"Print window info\" >> PrintWindowInfo()\n",
    "    )\n"
   ]
  },
  {
   "cell_type": "markdown",
   "metadata": {},
   "source": [
    "### Session Windows"
   ]
  },
  {
   "cell_type": "markdown",
   "metadata": {},
   "source": [
    "Sessions allow us to create those kinds of windows. We now have to specify a gap size in seconds, which is the maximum number of seconds of inactivity to close a session window.\n",
    "\n",
    "For example, if we specify a gap size of 30 days. The first event would open a new session window since there are no already opened windows. If the next event happens within the next 30 days or less, like 20 days after the previous event, the session window extends and covers that as well. If there are no new events for the next 30 days, the session window closes and is emitted."
   ]
  },
  {
   "cell_type": "code",
   "execution_count": null,
   "metadata": {},
   "outputs": [
    {
     "name": "stdout",
     "output_type": "stream",
     "text": [
      "gap_size: 2592000.0 seconds\n"
     ]
    }
   ],
   "source": [
    "import apache_beam as beam\n",
    "from datetime import timedelta\n",
    "\n",
    "# Sessions divided by approximately 1 month gaps.\n",
    "gap_size = timedelta(days=30).total_seconds() # in seconds\n",
    "print(f\"gap_size: {gap_size} seconds\")\n",
    "\n",
    "with beam.Pipeline() as pipeline:\n",
    "    (\n",
    "        pipeline\n",
    "        | \"Astronomical events\" >> AstronomicalEvents()\n",
    "        | \"Session windows\" >> beam.WindowInto(beam.window.Sessions(gap_size))\n",
    "        | \"Print element info\" >> beam.ParDo(PrintElementInfo())\n",
    "        | \"Print window info\" >> PrintWindowInfo()\n",
    "    )"
   ]
  },
  {
   "cell_type": "code",
   "execution_count": null,
   "metadata": {},
   "outputs": [],
   "source": []
  }
 ],
 "metadata": {
  "kernelspec": {
   "display_name": ".venv",
   "language": "python",
   "name": "python3"
  },
  "language_info": {
   "codemirror_mode": {
    "name": "ipython",
    "version": 3
   },
   "file_extension": ".py",
   "mimetype": "text/x-python",
   "name": "python",
   "nbconvert_exporter": "python",
   "pygments_lexer": "ipython3",
   "version": "3.12.1"
  }
 },
 "nbformat": 4,
 "nbformat_minor": 2
}
