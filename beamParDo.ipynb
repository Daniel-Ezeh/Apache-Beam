{
 "cells": [
  {
   "cell_type": "markdown",
   "metadata": {},
   "source": [
    "A transform for generic parallel processing.\n",
    "A `ParDo` transform considers each element in the input `PCollection`,\n",
    "performs some processing function (your user code) on that element,\n",
    "and emits zero or more elements to an output `PCollection`."
   ]
  },
  {
   "cell_type": "code",
   "execution_count": 1,
   "metadata": {},
   "outputs": [
    {
     "name": "stderr",
     "output_type": "stream",
     "text": [
      "WARNING:apache_beam.runners.interactive.interactive_environment:Dependencies required for Interactive Beam PCollection visualization are not available, please use: `pip install apache-beam[interactive]` to install necessary dependencies to enable all data visualization features.\n"
     ]
    },
    {
     "data": {
      "application/javascript": "\n        if (typeof window.interactive_beam_jquery == 'undefined') {\n          var jqueryScript = document.createElement('script');\n          jqueryScript.src = 'https://code.jquery.com/jquery-3.4.1.slim.min.js';\n          jqueryScript.type = 'text/javascript';\n          jqueryScript.onload = function() {\n            var datatableScript = document.createElement('script');\n            datatableScript.src = 'https://cdn.datatables.net/1.10.20/js/jquery.dataTables.min.js';\n            datatableScript.type = 'text/javascript';\n            datatableScript.onload = function() {\n              window.interactive_beam_jquery = jQuery.noConflict(true);\n              window.interactive_beam_jquery(document).ready(function($){\n                \n              });\n            }\n            document.head.appendChild(datatableScript);\n          };\n          document.head.appendChild(jqueryScript);\n        } else {\n          window.interactive_beam_jquery(document).ready(function($){\n            \n          });\n        }"
     },
     "metadata": {},
     "output_type": "display_data"
    },
    {
     "name": "stdout",
     "output_type": "stream",
     "text": [
      "🍓Strawberry\n",
      "🥕Carrot\n",
      "🍆Eggplant\n",
      "🍅Tomato\n",
      "🥔Potato\n"
     ]
    }
   ],
   "source": [
    "import apache_beam as beam\n",
    "\n",
    "class SplitWords(beam.DoFn):\n",
    "    def __init__(self, delimiter=','):\n",
    "        self.delimiter = delimiter\n",
    "    \n",
    "    def process(self, text):\n",
    "        for word in text.split(self.delimiter):\n",
    "            yield word\n",
    "\n",
    "with beam.Pipeline() as pipe:\n",
    "    plants = (\n",
    "        pipe\n",
    "        | 'Gardening plants' >> beam.Create([\n",
    "                '🍓Strawberry,🥕Carrot,🍆Eggplant',\n",
    "                '🍅Tomato,🥔Potato',\n",
    "        ])\n",
    "        | 'Split words' >> beam.ParDo(SplitWords(','))\n",
    "        | beam.Map(print)\n",
    "    )"
   ]
  },
  {
   "cell_type": "markdown",
   "metadata": {},
   "source": [
    "### ParDo with timestamp and window information"
   ]
  },
  {
   "cell_type": "code",
   "execution_count": 3,
   "metadata": {},
   "outputs": [
    {
     "name": "stdout",
     "output_type": "stream",
     "text": [
      "# timestamp\n",
      "type(timestamp) -> <class 'apache_beam.utils.timestamp.Timestamp'>\n",
      "timestamp.micros -> 1584675660000000\n",
      "timestamp.to_rfc3339() -> '2020-03-20T03:41:00Z'\n",
      "timestamp.to_utc_datetime() -> datetime.datetime(2020, 3, 20, 3, 41)\n",
      "\n",
      "# window\n",
      "type(window) -> <class 'apache_beam.transforms.window.IntervalWindow'>\n",
      "window.start -> Timestamp(1584675660) (2020-03-20 03:41:00)\n",
      "window.end -> Timestamp(1584675690) (2020-03-20 03:41:30)\n",
      "window.max_timestamp() -> Timestamp(1584675689.999999) (2020-03-20 03:41:29.999999)\n"
     ]
    }
   ],
   "source": [
    "import apache_beam as beam\n",
    "\n",
    "class AnalyzeElement(beam.DoFn):\n",
    "    def process(\n",
    "            self,\n",
    "            elem,\n",
    "            timestamp=beam.DoFn.TimestampParam,\n",
    "            window=beam.DoFn.WindowParam\n",
    "    ):\n",
    "        yield '\\n'.join([\n",
    "            '# timestamp',\n",
    "            'type(timestamp) -> ' + repr(type(timestamp)),\n",
    "            'timestamp.micros -> ' + repr(timestamp.micros),\n",
    "            'timestamp.to_rfc3339() -> ' + repr(timestamp.to_rfc3339()),\n",
    "            'timestamp.to_utc_datetime() -> ' + repr(timestamp.to_utc_datetime()),\n",
    "            '',\n",
    "            '# window',\n",
    "            'type(window) -> ' + repr(type(window)),\n",
    "            'window.start -> {} ({})'.format(window.start, window.start.to_utc_datetime()),\n",
    "            'window.end -> {} ({})'.format(window.end, window.end.to_utc_datetime()),\n",
    "            'window.max_timestamp() -> {} ({})'.format(window.max_timestamp(), window.max_timestamp().to_utc_datetime()), \n",
    "        ])\n",
    "\n",
    "with beam.Pipeline() as pipeline:\n",
    "    dofn_params = (\n",
    "        pipeline\n",
    "        | 'Create a single test element' >> beam.Create([':)'])\n",
    "        |'Add timestamp (Spring equinox 2020)' >> beam.Map(\n",
    "            lambda elem: beam.window.TimestampedValue(elem, 1584675660)\n",
    "        )\n",
    "        | 'Fixed 30sec windows' >> beam.WindowInto(beam.window.FixedWindows(30))\n",
    "        | ' Analyze element' >> beam.ParDo(AnalyzeElement())\n",
    "        | beam.Map(print)\n",
    "    )"
   ]
  },
  {
   "cell_type": "markdown",
   "metadata": {},
   "source": [
    "### ParDo with DoFn methods\n",
    "\n",
    "* [`DoFn.setup()`]\n",
    "* [`DoFn.start_bundle()`]\n",
    "* [**`DoFn.process(element, *args, **kwargs)`**]\n",
    "* [`DoFn.finish_bundle()`]\n",
    "* [`DoFn.teardown()`]\n"
   ]
  },
  {
   "cell_type": "code",
   "execution_count": 6,
   "metadata": {},
   "outputs": [
    {
     "name": "stdout",
     "output_type": "stream",
     "text": [
      "setup\n",
      "start_bundle\n",
      "* process🍓\n",
      "* process🥕\n",
      "* process🍆\n",
      "* process🍅\n",
      "* process🥔\n",
      "* finish_bundle 🌱🌳🌍\n",
      "teardown\n"
     ]
    }
   ],
   "source": [
    "import apache_beam as beam\n",
    "class DoFnMethods(beam.DoFn):\n",
    "    def __init__(self):\n",
    "        self.window = beam.window.GlobalWindow()\n",
    "\n",
    "    def setup(self):\n",
    "        print('setup')\n",
    "\n",
    "    def start_bundle(self):\n",
    "        print('start_bundle')\n",
    "\n",
    "    def process(self, element, window=beam.DoFn.WindowParam):\n",
    "        self.window = window\n",
    "        yield '* process' + element\n",
    "\n",
    "    def finish_bundle(self):\n",
    "        yield beam.utils.windowed_value.WindowedValue(\n",
    "            value='* finish_bundle 🌱🌳🌍',\n",
    "            timestamp=0,\n",
    "            windows=[self.window],\n",
    "        )\n",
    "    \n",
    "    def teardown(self):\n",
    "        print('teardown')\n",
    "\n",
    "\n",
    "with beam.Pipeline() as pipeline:\n",
    "    results = (\n",
    "        pipeline\n",
    "        | \"Create inputs\" >> beam.Create(['🍓', '🥕', '🍆', '🍅', '🥔'])\n",
    "        | 'DoFn methods' >> beam.ParDo(DoFnMethods())\n",
    "        | beam.Map(print)\n",
    "    )\n"
   ]
  },
  {
   "cell_type": "code",
   "execution_count": null,
   "metadata": {},
   "outputs": [],
   "source": []
  }
 ],
 "metadata": {
  "kernelspec": {
   "display_name": ".venv",
   "language": "python",
   "name": "python3"
  },
  "language_info": {
   "codemirror_mode": {
    "name": "ipython",
    "version": 3
   },
   "file_extension": ".py",
   "mimetype": "text/x-python",
   "name": "python",
   "nbconvert_exporter": "python",
   "pygments_lexer": "ipython3",
   "version": "3.12.1"
  }
 },
 "nbformat": 4,
 "nbformat_minor": 2
}
