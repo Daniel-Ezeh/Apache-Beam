{
 "cells": [
  {
   "cell_type": "code",
   "execution_count": 1,
   "metadata": {},
   "outputs": [
    {
     "name": "stdout",
     "output_type": "stream",
     "text": [
      "Writing data/solar_events.csv\n"
     ]
    }
   ],
   "source": [
    "%%writefile data/solar_events.csv\n",
    "timestamp,event\n",
    "2021-03-20 09:37:00,March Equinox\n",
    "2021-06-21 03:32:00,June Solstice\n",
    "2021-09-22 19:21:00,September Equinox\n",
    "2021-12-21 15:59:00,December Solstice"
   ]
  },
  {
   "cell_type": "code",
   "execution_count": 3,
   "metadata": {},
   "outputs": [
    {
     "name": "stderr",
     "output_type": "stream",
     "text": [
      "WARNING:apache_beam.runners.interactive.interactive_environment:Dependencies required for Interactive Beam PCollection visualization are not available, please use: `pip install apache-beam[interactive]` to install necessary dependencies to enable all data visualization features.\n"
     ]
    },
    {
     "data": {
      "application/javascript": "\n        if (typeof window.interactive_beam_jquery == 'undefined') {\n          var jqueryScript = document.createElement('script');\n          jqueryScript.src = 'https://code.jquery.com/jquery-3.4.1.slim.min.js';\n          jqueryScript.type = 'text/javascript';\n          jqueryScript.onload = function() {\n            var datatableScript = document.createElement('script');\n            datatableScript.src = 'https://cdn.datatables.net/1.10.20/js/jquery.dataTables.min.js';\n            datatableScript.type = 'text/javascript';\n            datatableScript.onload = function() {\n              window.interactive_beam_jquery = jQuery.noConflict(true);\n              window.interactive_beam_jquery(document).ready(function($){\n                \n              });\n            }\n            document.head.appendChild(datatableScript);\n          };\n          document.head.appendChild(jqueryScript);\n        } else {\n          window.interactive_beam_jquery(document).ready(function($){\n            \n          });\n        }"
     },
     "metadata": {},
     "output_type": "display_data"
    },
    {
     "data": {
      "text/html": [
       "\n",
       "            <link rel=\"stylesheet\" href=\"https://stackpath.bootstrapcdn.com/bootstrap/4.4.1/css/bootstrap.min.css\" integrity=\"sha384-Vkoo8x4CGsO3+Hhxv8T/Q5PaXtkKtu6ug5TOeNV6gBiFeWPGFN9MuhOf23Q9Ifjh\" crossorigin=\"anonymous\">\n",
       "            <div id=\"progress_indicator_ff731d769470a4704379d743d3270e3f\">\n",
       "              <div class=\"spinner-border text-info\" role=\"status\"></div>\n",
       "              <span class=\"text-info\">Processing... collect</span>\n",
       "            </div>\n",
       "            "
      ],
      "text/plain": [
       "<IPython.core.display.HTML object>"
      ]
     },
     "metadata": {},
     "output_type": "display_data"
    },
    {
     "data": {
      "application/javascript": "\n        if (typeof window.interactive_beam_jquery == 'undefined') {\n          var jqueryScript = document.createElement('script');\n          jqueryScript.src = 'https://code.jquery.com/jquery-3.4.1.slim.min.js';\n          jqueryScript.type = 'text/javascript';\n          jqueryScript.onload = function() {\n            var datatableScript = document.createElement('script');\n            datatableScript.src = 'https://cdn.datatables.net/1.10.20/js/jquery.dataTables.min.js';\n            datatableScript.type = 'text/javascript';\n            datatableScript.onload = function() {\n              window.interactive_beam_jquery = jQuery.noConflict(true);\n              window.interactive_beam_jquery(document).ready(function($){\n                \n            $(\"#progress_indicator_ff731d769470a4704379d743d3270e3f\").remove();\n              });\n            }\n            document.head.appendChild(datatableScript);\n          };\n          document.head.appendChild(jqueryScript);\n        } else {\n          window.interactive_beam_jquery(document).ready(function($){\n            \n            $(\"#progress_indicator_ff731d769470a4704379d743d3270e3f\").remove();\n          });\n        }"
     },
     "metadata": {},
     "output_type": "display_data"
    },
    {
     "data": {
      "text/html": [
       "<div>\n",
       "<style scoped>\n",
       "    .dataframe tbody tr th:only-of-type {\n",
       "        vertical-align: middle;\n",
       "    }\n",
       "\n",
       "    .dataframe tbody tr th {\n",
       "        vertical-align: top;\n",
       "    }\n",
       "\n",
       "    .dataframe thead th {\n",
       "        text-align: right;\n",
       "    }\n",
       "</style>\n",
       "<table border=\"1\" class=\"dataframe\">\n",
       "  <thead>\n",
       "    <tr style=\"text-align: right;\">\n",
       "      <th></th>\n",
       "      <th>timestamp</th>\n",
       "      <th>event</th>\n",
       "    </tr>\n",
       "  </thead>\n",
       "  <tbody>\n",
       "    <tr>\n",
       "      <th>0</th>\n",
       "      <td>2021-03-20 09:37:00</td>\n",
       "      <td>March Equinox</td>\n",
       "    </tr>\n",
       "    <tr>\n",
       "      <th>1</th>\n",
       "      <td>2021-06-21 03:32:00</td>\n",
       "      <td>June Solstice</td>\n",
       "    </tr>\n",
       "    <tr>\n",
       "      <th>2</th>\n",
       "      <td>2021-09-22 19:21:00</td>\n",
       "      <td>September Equinox</td>\n",
       "    </tr>\n",
       "    <tr>\n",
       "      <th>3</th>\n",
       "      <td>2021-12-21 15:59:00</td>\n",
       "      <td>December Solstice</td>\n",
       "    </tr>\n",
       "  </tbody>\n",
       "</table>\n",
       "</div>"
      ],
      "text/plain": [
       "             timestamp              event\n",
       "0  2021-03-20 09:37:00      March Equinox\n",
       "1  2021-06-21 03:32:00      June Solstice\n",
       "2  2021-09-22 19:21:00  September Equinox\n",
       "3  2021-12-21 15:59:00  December Solstice"
      ]
     },
     "execution_count": 3,
     "metadata": {},
     "output_type": "execute_result"
    }
   ],
   "source": [
    "import apache_beam as beam\n",
    "import apache_beam.runners.interactive.interactive_beam as ib\n",
    "from apache_beam.runners.interactive.interactive_runner import InteractiveRunner\n",
    "\n",
    "pipeline = beam.Pipeline(InteractiveRunner())\n",
    "\n",
    "# Create a deferred Beam Dataframe with the contents of our csv file.\n",
    "beam_df = pipeline \\\n",
    "| \"Read CSV\" >> beam.dataframe.io.read_csv('data/solar_events.csv')\n",
    "\n",
    "# We can use `ib.collect` to view the contents of a Beam DataFrame.\n",
    "ib.collect(beam_df)"
   ]
  },
  {
   "cell_type": "code",
   "execution_count": 4,
   "metadata": {},
   "outputs": [
    {
     "data": {
      "text/html": [
       "\n",
       "            <link rel=\"stylesheet\" href=\"https://stackpath.bootstrapcdn.com/bootstrap/4.4.1/css/bootstrap.min.css\" integrity=\"sha384-Vkoo8x4CGsO3+Hhxv8T/Q5PaXtkKtu6ug5TOeNV6gBiFeWPGFN9MuhOf23Q9Ifjh\" crossorigin=\"anonymous\">\n",
       "            <div id=\"progress_indicator_edf3ecce8904c58ae14604be5e2b2882\">\n",
       "              <div class=\"spinner-border text-info\" role=\"status\"></div>\n",
       "              <span class=\"text-info\">Processing... collect</span>\n",
       "            </div>\n",
       "            "
      ],
      "text/plain": [
       "<IPython.core.display.HTML object>"
      ]
     },
     "metadata": {},
     "output_type": "display_data"
    },
    {
     "data": {
      "application/javascript": "\n        if (typeof window.interactive_beam_jquery == 'undefined') {\n          var jqueryScript = document.createElement('script');\n          jqueryScript.src = 'https://code.jquery.com/jquery-3.4.1.slim.min.js';\n          jqueryScript.type = 'text/javascript';\n          jqueryScript.onload = function() {\n            var datatableScript = document.createElement('script');\n            datatableScript.src = 'https://cdn.datatables.net/1.10.20/js/jquery.dataTables.min.js';\n            datatableScript.type = 'text/javascript';\n            datatableScript.onload = function() {\n              window.interactive_beam_jquery = jQuery.noConflict(true);\n              window.interactive_beam_jquery(document).ready(function($){\n                \n            $(\"#progress_indicator_edf3ecce8904c58ae14604be5e2b2882\").remove();\n              });\n            }\n            document.head.appendChild(datatableScript);\n          };\n          document.head.appendChild(jqueryScript);\n        } else {\n          window.interactive_beam_jquery(document).ready(function($){\n            \n            $(\"#progress_indicator_edf3ecce8904c58ae14604be5e2b2882\").remove();\n          });\n        }"
     },
     "metadata": {},
     "output_type": "display_data"
    },
    {
     "data": {
      "text/html": [
       "<div>\n",
       "<style scoped>\n",
       "    .dataframe tbody tr th:only-of-type {\n",
       "        vertical-align: middle;\n",
       "    }\n",
       "\n",
       "    .dataframe tbody tr th {\n",
       "        vertical-align: top;\n",
       "    }\n",
       "\n",
       "    .dataframe thead th {\n",
       "        text-align: right;\n",
       "    }\n",
       "</style>\n",
       "<table border=\"1\" class=\"dataframe\">\n",
       "  <thead>\n",
       "    <tr style=\"text-align: right;\">\n",
       "      <th></th>\n",
       "      <th>timestamp</th>\n",
       "      <th>event</th>\n",
       "    </tr>\n",
       "  </thead>\n",
       "  <tbody>\n",
       "    <tr>\n",
       "      <th>0</th>\n",
       "      <td>2021-03-20 09:37:00</td>\n",
       "      <td>March Equinox</td>\n",
       "    </tr>\n",
       "    <tr>\n",
       "      <th>1</th>\n",
       "      <td>2021-06-21 03:32:00</td>\n",
       "      <td>June Solstice</td>\n",
       "    </tr>\n",
       "  </tbody>\n",
       "</table>\n",
       "</div>"
      ],
      "text/plain": [
       "             timestamp          event\n",
       "0  2021-03-20 09:37:00  March Equinox\n",
       "1  2021-06-21 03:32:00  June Solstice"
      ]
     },
     "execution_count": 4,
     "metadata": {},
     "output_type": "execute_result"
    }
   ],
   "source": [
    "import apache_beam.runners.interactive.interactive_beam as ib\n",
    "\n",
    "# Collect the Beam DataFrame into a Pandas DataFrame.\n",
    "df = ib.collect(beam_df)\n",
    "\n",
    "# We can now use any Pandas transforms with our data.\n",
    "df.sort_values(by='timestamp').head(2)"
   ]
  },
  {
   "cell_type": "markdown",
   "metadata": {},
   "source": [
    "### Beam DataFrames to PCollections"
   ]
  },
  {
   "cell_type": "code",
   "execution_count": 3,
   "metadata": {},
   "outputs": [
    {
     "name": "stdout",
     "output_type": "stream",
     "text": [
      "{'timestamp': '2021-03-20 09:37:00', 'event': 'March Equinox'}\n",
      "{'timestamp': '2021-06-21 03:32:00', 'event': 'June Solstice'}\n",
      "{'timestamp': '2021-09-22 19:21:00', 'event': 'September Equinox'}\n",
      "{'timestamp': '2021-12-21 15:59:00', 'event': 'December Solstice'}\n"
     ]
    }
   ],
   "source": [
    "import apache_beam as beam\n",
    "from apache_beam.dataframe import convert\n",
    "\n",
    "with beam.Pipeline() as pipeline:\n",
    "    beam_df = (\n",
    "        pipeline\n",
    "        | \"Read CSV\" >> beam.dataframe.io.read_csv('data/solar_events.csv')\n",
    "    )\n",
    "    (\n",
    "        # Convert the Beam DataFrame to a PCollection.\n",
    "        convert.to_pcollection(beam_df)\n",
    "\n",
    "        # We get named tuples, we can convert them to dictionaries like this.\n",
    "        | \"To dictionaries\" >> beam.Map(lambda x: dict(x._asdict()))\n",
    "\n",
    "        # Print the elements in the PCollection.\n",
    "        | 'Print' >> beam.Map(print)\n",
    "    )"
   ]
  },
  {
   "cell_type": "markdown",
   "metadata": {},
   "source": [
    "### Pandas DataFrames to PCollections\n",
    "\n",
    "If you have your data as a Pandas DataFrame, you can convert it into a regular PCollection with\n",
    "[`to_pcollection`](https://beam.apache.org/releases/pydoc/current/apache_beam.dataframe.convert.html#apache_beam.dataframe.convert.to_pcollection).\n",
    "\n",
    "Since Pandas DataFrames are not part of any Beam pipeline, we must provide the `pipeline` explicitly."
   ]
  },
  {
   "cell_type": "code",
   "execution_count": 4,
   "metadata": {},
   "outputs": [
    {
     "name": "stdout",
     "output_type": "stream",
     "text": [
      "{'timestamp': '2021-03-20 09:37:00', 'event': 'March Equinox'}\n",
      "{'timestamp': '2021-06-21 03:32:00', 'event': 'June Solstice'}\n",
      "{'timestamp': '2021-09-22 19:21:00', 'event': 'September Equinox'}\n",
      "{'timestamp': '2021-12-21 15:59:00', 'event': 'December Solstice'}\n"
     ]
    }
   ],
   "source": [
    "import pandas as pd\n",
    "import apache_beam as beam\n",
    "from apache_beam.dataframe import convert\n",
    "\n",
    "with beam.Pipeline() as pipeline:\n",
    "    df = pd.read_csv('data/solar_events.csv')\n",
    "\n",
    "    (\n",
    "        # Convert the Pandas DataFrame to a PCollection\n",
    "        convert.to_pcollection(df, pipeline=pipeline)\n",
    "\n",
    "        # We get named tuples, we can convert them to dictionaries like this.\n",
    "        | \"To dictionaries\" >> beam.Map(lambda x: dict(x._asdict()))\n",
    "\n",
    "        # Print the elements in the PCollection.\n",
    "        | 'Print' >> beam.Map(print)\n",
    "    )"
   ]
  },
  {
   "cell_type": "code",
   "execution_count": null,
   "metadata": {},
   "outputs": [],
   "source": [
    "import pandas as pd\n",
    "import apache_beam as beam\n",
    "\n",
    "with beam.Pipeline() as pipeline:\n",
    "    (\n",
    "        pipeline\n",
    "        | \"Filename\" >> beam.Create(['data/solar_events.csv'])\n",
    "\n",
    "        # Each element is a Pandas DataFrame, so we can do any Pandas operation.\n",
    "        | 'Read CSV' >> beam.Map(pd.read_csv)\n",
    "\n",
    "        # We yield each element of all the DataFrames into a PCollection of dictionaries.\n",
    "        | 'To dictionaries' >> beam.FlatMap(lambda df: df.to_dict('records'))\n",
    "\n",
    "        # Reshuffle to make sure parallelization is balanced.\n",
    "        | 'Reshuffle' >> beam.Reshuffle()\n",
    "\n",
    "        # Print the elements in the PCollection.\n",
    "        | 'Print' >> beam.Map(print)\n",
    "    )"
   ]
  },
  {
   "cell_type": "markdown",
   "metadata": {},
   "source": [
    "# PCollections to Beam DataFrames\n",
    "\n",
    "If you have your data as a PCollection, you can convert it into a deferred Beam DataFrame with\n",
    "[`to_dataframe`](https://beam.apache.org/releases/pydoc/current/apache_beam.dataframe.convert.html#apache_beam.dataframe.convert.to_dataframe).\n",
    "\n",
    "> ℹ️ To convert a PCollection to a Beam DataFrame, each element _must_ have a\n",
    "[schema](https://beam.apache.org/documentation/programming-guide/#what-is-a-schema)."
   ]
  },
  {
   "cell_type": "code",
   "execution_count": 5,
   "metadata": {},
   "outputs": [
    {
     "name": "stderr",
     "output_type": "stream",
     "text": [
      "WARNING:apache_beam.transforms.core:('No iterator is returned by the process method in %s.', <class 'apache_beam.dataframe.convert.RowsToDataFrameFn'>)\n"
     ]
    },
    {
     "name": "stdout",
     "output_type": "stream",
     "text": [
      "{'timestamp': '2021-03-20 09:37:00', 'event': 'March Equinox'}\n",
      "{'timestamp': '2021-06-21 03:32:00', 'event': 'June Solstice'}\n",
      "{'timestamp': '2021-09-22 19:21:00', 'event': 'September Equinox'}\n",
      "{'timestamp': '2021-12-21 15:59:00', 'event': 'December Solstice'}\n"
     ]
    }
   ],
   "source": [
    "import csv\n",
    "import apache_beam as beam\n",
    "from apache_beam.dataframe import convert\n",
    "\n",
    "with open('data/solar_events.csv') as f:\n",
    "    solar_events = [dict(row) for row in csv.DictReader(f)]\n",
    "\n",
    "with beam.Pipeline() as pipeline:\n",
    "    pcoll = (\n",
    "        pipeline\n",
    "        | 'Create data' >> beam.Create(solar_events)\n",
    "    )\n",
    "\n",
    "    # Convert the PCollection into a Beam DataFrame.\n",
    "    beam_df = convert.to_dataframe(\n",
    "        pcoll\n",
    "        | 'To Rows' >> beam.Map(lambda x: beam.Row(timestamp=x['timestamp'], event=x['event'],))\n",
    "    )\n",
    "\n",
    "    # Print the elements in the Beam DataFrame.\n",
    "    (\n",
    "        convert.to_pcollection(beam_df)\n",
    "        | 'To dictionaries' >> beam.Map(lambda x: dict(x._asdict()))\n",
    "        | 'Print' >> beam.Map(print)\n",
    "    )"
   ]
  },
  {
   "cell_type": "markdown",
   "metadata": {},
   "source": [
    "## PCollections to Pandas DataFrames"
   ]
  },
  {
   "cell_type": "code",
   "execution_count": null,
   "metadata": {},
   "outputs": [],
   "source": [
    "import csv\n",
    "import pandas as pd\n",
    "import apache_beam as beam\n",
    "\n",
    "with open('data/solar_events.csv') as f:\n",
    "    solar_events = [dict(row) for row in csv.DictReader(f)]\n",
    "\n",
    "with beam.Pipeline() as pipeline:\n",
    "    pcoll = pipeline | \"Create data\" >> beam.Create(solar_events)\n",
    "\n",
    "    (\n",
    "        pipeline\n",
    "\n",
    "        # Create a single element containing the entire PCollection.\n",
    "        | 'Singleton' >> beam.Create([None])\n",
    "        | 'As Pandas' >> beam.Map(\n",
    "            lambda _, dict_iter: pd.DataFrame(dict_iter),\n",
    "            dict_iter=beam.pvalue.AsIter(pcoll),\n",
    "        )\n",
    "\n",
    "        # Print the Pandas DataFrame\n",
    "        | 'Print' >> beam.Map(print)\n",
    "    )"
   ]
  }
 ],
 "metadata": {
  "kernelspec": {
   "display_name": ".venv",
   "language": "python",
   "name": "python3"
  },
  "language_info": {
   "codemirror_mode": {
    "name": "ipython",
    "version": 3
   },
   "file_extension": ".py",
   "mimetype": "text/x-python",
   "name": "python",
   "nbconvert_exporter": "python",
   "pygments_lexer": "ipython3",
   "version": "3.12.1"
  }
 },
 "nbformat": 4,
 "nbformat_minor": 2
}
