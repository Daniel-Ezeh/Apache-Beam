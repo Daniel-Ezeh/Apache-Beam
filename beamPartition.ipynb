{
 "cells": [
  {
   "cell_type": "markdown",
   "metadata": {},
   "source": [
    "### Partition\n",
    "\n",
    "Separates elements in a collection into multiple output\n",
    "collections. The partitioning function contains the logic that determines how\n",
    "to separate the elements of the input collection into each resulting\n",
    "partition output collection.\n",
    "\n",
    "\n",
    "The number of partitions must be determined at graph construction time.\n",
    "You cannot determine the number of partitions in mid-pipeline\n",
    "\n",
    "\n",
    "`Partition` accepts a function that receives the number of partitions,\n",
    "and returns the index of the desired partition for the element.\n",
    "The number of partitions passed must be a positive integer,\n",
    "and it must return an integer in the range `0` to `num_partitions-1`."
   ]
  },
  {
   "cell_type": "code",
   "execution_count": 3,
   "metadata": {},
   "outputs": [
    {
     "name": "stdout",
     "output_type": "stream",
     "text": [
      "perennial: {'icon': '🍓', 'name': 'Strawberry', 'duration': 'perennial'}\n",
      "biennial: {'icon': '🥕', 'name': 'Carrot', 'duration': 'biennial'}\n",
      "perennial: {'icon': '🍆', 'name': 'Eggplant', 'duration': 'perennial'}\n",
      "annual: {'icon': '🍅', 'name': 'Tomato', 'duration': 'annual'}\n",
      "perennial: {'icon': '🥔', 'name': 'Potato', 'duration': 'perennial'}\n"
     ]
    }
   ],
   "source": [
    "import apache_beam as beam\n",
    "\n",
    "durations = ['annual', 'biennial', 'perennial']\n",
    "\n",
    "def by_duration(plant, num_partitions):\n",
    "    return durations.index(plant[\"duration\"])\n",
    "\n",
    "with beam.Pipeline() as pipeline:\n",
    "    annuals, biennials, perennials = (\n",
    "        pipeline\n",
    "        | \"Gardening plants\" >> beam.Create([\n",
    "            {'icon': '🍓', 'name': 'Strawberry', 'duration': 'perennial'},\n",
    "            {'icon': '🥕', 'name': 'Carrot', 'duration': 'biennial'},\n",
    "            {'icon': '🍆', 'name': 'Eggplant', 'duration': 'perennial'},\n",
    "            {'icon': '🍅', 'name': 'Tomato', 'duration': 'annual'},\n",
    "            {'icon': '🥔', 'name': 'Potato', 'duration': 'perennial'},\n",
    "        ])\n",
    "        | 'Partition' >> beam.Partition(by_duration, len(durations))\n",
    "    )\n",
    "\n",
    "    annuals | 'Annuals' >> beam.Map(lambda x: print(f'annual: {x}'))\n",
    "    biennials | 'Biennials' >> beam.Map(lambda x: print(f'biennial: {x}'))\n",
    "    perennials | 'Perennials' >> beam.Map(lambda x: print(f'perennial: {x}'))"
   ]
  },
  {
   "cell_type": "markdown",
   "metadata": {},
   "source": [
    "## Partition with a lambda function"
   ]
  },
  {
   "cell_type": "code",
   "execution_count": 4,
   "metadata": {},
   "outputs": [
    {
     "name": "stdout",
     "output_type": "stream",
     "text": [
      "perennial: {'icon': '🍓', 'name': 'Strawberry', 'duration': 'perennial'}\n",
      "biennial: {'icon': '🥕', 'name': 'Carrot', 'duration': 'biennial'}\n",
      "perennial: {'icon': '🍆', 'name': 'Eggplant', 'duration': 'perennial'}\n",
      "annual: {'icon': '🍅', 'name': 'Tomato', 'duration': 'annual'}\n",
      "perennial: {'icon': '🥔', 'name': 'Potato', 'duration': 'perennial'}\n"
     ]
    }
   ],
   "source": [
    "import apache_beam as beam\n",
    "\n",
    "durations = ['annual', 'biennial', 'perennial']\n",
    "\n",
    "def by_duration(plant, num_partitions):\n",
    "    return durations.index(plant[\"duration\"])\n",
    "\n",
    "with beam.Pipeline() as pipeline:\n",
    "    annuals, biennials, perennials = (\n",
    "        pipeline\n",
    "        | \"Gardening plants\" >> beam.Create([\n",
    "            {'icon': '🍓', 'name': 'Strawberry', 'duration': 'perennial'},\n",
    "            {'icon': '🥕', 'name': 'Carrot', 'duration': 'biennial'},\n",
    "            {'icon': '🍆', 'name': 'Eggplant', 'duration': 'perennial'},\n",
    "            {'icon': '🍅', 'name': 'Tomato', 'duration': 'annual'},\n",
    "            {'icon': '🥔', 'name': 'Potato', 'duration': 'perennial'},\n",
    "        ])\n",
    "        | 'Partition' >> beam.Partition(\n",
    "            lambda plant, num_partitions: durations.index(plant['duration']),\n",
    "            len(durations)\n",
    "        )\n",
    "    )\n",
    "\n",
    "    annuals | 'Annuals' >> beam.Map(lambda x: print(f'annual: {x}'))\n",
    "    biennials | 'Biennials' >> beam.Map(lambda x: print(f'biennial: {x}'))\n",
    "    perennials | 'Perennials' >> beam.Map(lambda x: print(f'perennial: {x}'))"
   ]
  },
  {
   "cell_type": "markdown",
   "metadata": {},
   "source": [
    "## Partition with multiple arguments"
   ]
  },
  {
   "cell_type": "code",
   "execution_count": 7,
   "metadata": {},
   "outputs": [
    {
     "name": "stdout",
     "output_type": "stream",
     "text": [
      "train: {'icon': '🍓', 'name': 'Strawberry', 'duration': 'perennial'}\n",
      "train: {'icon': '🥕', 'name': 'Carrot', 'duration': 'biennial'}\n",
      "train: {'icon': '🍆', 'name': 'Eggplant', 'duration': 'perennial'}\n",
      "train: {'icon': '🍅', 'name': 'Tomato', 'duration': 'annual'}\n",
      "train: {'icon': '🥔', 'name': 'Potato', 'duration': 'perennial'}\n"
     ]
    }
   ],
   "source": [
    "import apache_beam as beam\n",
    "import json\n",
    "\n",
    "def split_dataset(plant, num_partitions, ratio):\n",
    "    assert num_partitions == len(ratio)\n",
    "    bucket = sum(map(ord, json.dumps(plant))) % sum(ratio)\n",
    "    total = 0\n",
    "    for i, part in enumerate(ratio):\n",
    "        total += part\n",
    "        if bucket < total:\n",
    "            return i\n",
    "    return len(ratio) - 1\n",
    "\n",
    "with beam.Pipeline() as pipeline:\n",
    "    train_dataset, test_dataset = (\n",
    "        pipeline\n",
    "        | \"Gardening plants\" >> beam.Create([\n",
    "            {'icon': '🍓', 'name': 'Strawberry', 'duration': 'perennial'},\n",
    "            {'icon': '🥕', 'name': 'Carrot', 'duration': 'biennial'},\n",
    "            {'icon': '🍆', 'name': 'Eggplant', 'duration': 'perennial'},\n",
    "            {'icon': '🍅', 'name': 'Tomato', 'duration': 'annual'},\n",
    "            {'icon': '🥔', 'name': 'Potato', 'duration': 'perennial'},\n",
    "        ])\n",
    "        | \"Partition\" >> beam.Partition(split_dataset, 2, ratio=[8,2])\n",
    "    )\n",
    "\n",
    "    train_dataset | 'Train' >> beam.Map(lambda x: print(f'train: {x}'))\n",
    "    test_dataset | 'Test' >> beam.Map(lambda x: print(f'train: {x}'))"
   ]
  },
  {
   "cell_type": "code",
   "execution_count": null,
   "metadata": {},
   "outputs": [],
   "source": []
  }
 ],
 "metadata": {
  "kernelspec": {
   "display_name": ".venv",
   "language": "python",
   "name": "python3"
  },
  "language_info": {
   "codemirror_mode": {
    "name": "ipython",
    "version": 3
   },
   "file_extension": ".py",
   "mimetype": "text/x-python",
   "name": "python",
   "nbconvert_exporter": "python",
   "pygments_lexer": "ipython3",
   "version": "3.12.1"
  }
 },
 "nbformat": 4,
 "nbformat_minor": 2
}
