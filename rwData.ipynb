{
 "cells": [
  {
   "cell_type": "markdown",
   "metadata": {},
   "source": [
    "# Reading and writing data -- _Tour of Beam_\n",
    "\n",
    "So far we've learned some of the basic transforms like\n",
    "[`Map`](https://beam.apache.org/documentation/transforms/python/elementwise/map),\n",
    "[`FlatMap`](https://beam.apache.org/documentation/transforms/python/elementwise/flatmap),\n",
    "[`Filter`](https://beam.apache.org/documentation/transforms/python/elementwise/filter),\n",
    "[`Combine`](https://beam.apache.org/documentation/transforms/python/aggregation/combineglobally), and\n",
    "[`GroupByKey`](https://beam.apache.org/documentation/transforms/python/aggregation/groupbykey).\n",
    "These allow us to transform data in any way, but so far we've used\n",
    "[`Create`](https://beam.apache.org/documentation/transforms/python/other/create)\n",
    "to get data from an in-memory\n",
    "[`iterable`](https://docs.python.org/3/glossary.html#term-iterable), like a `list`.\n",
    "\n",
    "This works well for experimenting with small datasets. For larger datasets we can use `Source` transforms to read data and `Sink` transforms to write data.\n",
    "If there are no built-in `Source` or `Sink` transforms, we can also easily create our custom I/O transforms.\n",
    "\n",
    "Let's create some data files and see how we can read them in Beam."
   ]
  },
  {
   "cell_type": "code",
   "execution_count": 1,
   "metadata": {},
   "outputs": [],
   "source": [
    "%mkdir -p data"
   ]
  },
  {
   "cell_type": "code",
   "execution_count": 2,
   "metadata": {},
   "outputs": [
    {
     "name": "stdout",
     "output_type": "stream",
     "text": [
      "Writing data/my-text-file-1.txt\n"
     ]
    }
   ],
   "source": [
    "%%writefile data/my-text-file-1.txt\n",
    "This is just a plain text file, UTF-8 strings are allowed 🎉.\n",
    "Each line in the file is one element in the PCollection."
   ]
  },
  {
   "cell_type": "code",
   "execution_count": 3,
   "metadata": {},
   "outputs": [
    {
     "name": "stdout",
     "output_type": "stream",
     "text": [
      "Writing data/my-text-file-2.txt\n"
     ]
    }
   ],
   "source": [
    "%%writefile data/my-text-file-2.txt\n",
    "There are no guarantees on the order of the elements.\n",
    "ฅ^•ﻌ•^ฅ"
   ]
  },
  {
   "cell_type": "code",
   "execution_count": 4,
   "metadata": {},
   "outputs": [
    {
     "name": "stdout",
     "output_type": "stream",
     "text": [
      "Writing data/penguins.csv\n"
     ]
    }
   ],
   "source": [
    "%%writefile data/penguins.csv\n",
    "species,culmen_length_mm,culmen_depth_mm,flipper_length_mm,body_mass_g\n",
    "0,0.2545454545454545,0.6666666666666666,0.15254237288135594,0.2916666666666667\n",
    "0,0.26909090909090905,0.5119047619047618,0.23728813559322035,0.3055555555555556\n",
    "1,0.5236363636363636,0.5714285714285713,0.3389830508474576,0.2222222222222222\n",
    "1,0.6509090909090909,0.7619047619047619,0.4067796610169492,0.3333333333333333\n",
    "2,0.509090909090909,0.011904761904761862,0.6610169491525424,0.5\n",
    "2,0.6509090909090909,0.38095238095238104,0.9830508474576272,0.8333333333333334"
   ]
  },
  {
   "cell_type": "markdown",
   "metadata": {},
   "source": [
    "# Reading from text files\n",
    "\n",
    "We can use the\n",
    "[`ReadFromText`](https://beam.apache.org/releases/pydoc/current/apache_beam.io.textio.html#apache_beam.io.textio.ReadFromText)\n",
    "transform to read text files into `str` elements.\n",
    "\n",
    "It takes a\n",
    "[_glob pattern_](https://en.wikipedia.org/wiki/Glob_%28programming%29)\n",
    "as an input, and reads all the files that match that pattern.\n",
    "It returns one element for each line in the file.\n",
    "\n",
    "For example, in the pattern `data/*.txt`, the `*` is a wildcard that matches anything. This pattern matches all the files in the `data/` directory with a `.txt` extension."
   ]
  },
  {
   "cell_type": "code",
   "execution_count": 10,
   "metadata": {},
   "outputs": [
    {
     "name": "stdout",
     "output_type": "stream",
     "text": [
      "There are no guarantees on the order of the elements.\n",
      "ฅ^•ﻌ•^ฅ\n",
      "This is just a plain text file, UTF-8 strings are allowed 🎉.\n",
      "Each line in the file is one element in the PCollection.\n"
     ]
    }
   ],
   "source": [
    "import apache_beam as beam\n",
    "\n",
    "files = 'data/*.txt'\n",
    "\n",
    "with beam.Pipeline ()as pipe:\n",
    "    result = (\n",
    "        pipe\n",
    "        | \"Read files\" >> beam.io.ReadFromText(files)\n",
    "        | \"Print contents\" >> beam.Map(print)\n",
    "    )"
   ]
  },
  {
   "cell_type": "markdown",
   "metadata": {},
   "source": [
    "### Writing to text files\n"
   ]
  },
  {
   "cell_type": "code",
   "execution_count": 11,
   "metadata": {},
   "outputs": [],
   "source": [
    "output_file_prefix = 'output/file'\n",
    "\n",
    "text = [\n",
    "          'Each element must be a string.',\n",
    "          'It writes one element per line.',\n",
    "          'There are no guarantees on the line order.',\n",
    "          'The data might be written into multiple files.',\n",
    "      ]\n",
    "\n",
    "with beam.Pipeline() as pipe:\n",
    "    (\n",
    "        pipe\n",
    "        | \"Create file lines\" >> beam.Create(text)\n",
    "        | \"Write to files\" >> beam.io.WriteToText(\n",
    "            output_file_prefix,\n",
    "            file_name_suffix=\".txt\"\n",
    "        )\n",
    "    )\n"
   ]
  },
  {
   "cell_type": "code",
   "execution_count": null,
   "metadata": {},
   "outputs": [],
   "source": []
  }
 ],
 "metadata": {
  "kernelspec": {
   "display_name": ".venv",
   "language": "python",
   "name": "python3"
  },
  "language_info": {
   "codemirror_mode": {
    "name": "ipython",
    "version": 3
   },
   "file_extension": ".py",
   "mimetype": "text/x-python",
   "name": "python",
   "nbconvert_exporter": "python",
   "pygments_lexer": "ipython3",
   "version": "3.12.1"
  }
 },
 "nbformat": 4,
 "nbformat_minor": 2
}
