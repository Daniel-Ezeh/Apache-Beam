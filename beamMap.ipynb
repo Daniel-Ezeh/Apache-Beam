{
 "cells": [
  {
   "cell_type": "markdown",
   "metadata": {},
   "source": [
    "## Map with a function"
   ]
  },
  {
   "cell_type": "code",
   "execution_count": 2,
   "metadata": {},
   "outputs": [
    {
     "name": "stderr",
     "output_type": "stream",
     "text": [
      "WARNING:apache_beam.runners.interactive.interactive_environment:Dependencies required for Interactive Beam PCollection visualization are not available, please use: `pip install apache-beam[interactive]` to install necessary dependencies to enable all data visualization features.\n"
     ]
    },
    {
     "data": {
      "application/javascript": "\n        if (typeof window.interactive_beam_jquery == 'undefined') {\n          var jqueryScript = document.createElement('script');\n          jqueryScript.src = 'https://code.jquery.com/jquery-3.4.1.slim.min.js';\n          jqueryScript.type = 'text/javascript';\n          jqueryScript.onload = function() {\n            var datatableScript = document.createElement('script');\n            datatableScript.src = 'https://cdn.datatables.net/1.10.20/js/jquery.dataTables.min.js';\n            datatableScript.type = 'text/javascript';\n            datatableScript.onload = function() {\n              window.interactive_beam_jquery = jQuery.noConflict(true);\n              window.interactive_beam_jquery(document).ready(function($){\n                \n              });\n            }\n            document.head.appendChild(datatableScript);\n          };\n          document.head.appendChild(jqueryScript);\n        } else {\n          window.interactive_beam_jquery(document).ready(function($){\n            \n          });\n        }"
     },
     "metadata": {},
     "output_type": "display_data"
    },
    {
     "name": "stdout",
     "output_type": "stream",
     "text": [
      "🍓Strawberry\n",
      "🥕Carrot\n",
      "🍆Eggplant\n",
      "🍅Tomato\n",
      "🥔Potato\n"
     ]
    }
   ],
   "source": [
    "import apache_beam as beam\n",
    "\n",
    "def strip_header_and_newline(text):\n",
    "    return text.strip('# \\n')\n",
    "\n",
    "with beam.Pipeline() as pipeline:\n",
    "    plants = (\n",
    "        pipeline\n",
    "        | 'Gardening plants' >> beam.Create([\n",
    "            '# 🍓Strawberry\\n',\n",
    "            '# 🥕Carrot\\n',\n",
    "            '# 🍆Eggplant\\n',\n",
    "            '# 🍅Tomato\\n',\n",
    "            '# 🥔Potato\\n',\n",
    "        ])\n",
    "        | 'Strip header' >> beam.Map(strip_header_and_newline)\n",
    "        | beam.Map(print)\n",
    "    )\n",
    "\n",
    "\n"
   ]
  },
  {
   "cell_type": "markdown",
   "metadata": {},
   "source": [
    "## Mapping with a lambda function"
   ]
  },
  {
   "cell_type": "code",
   "execution_count": 3,
   "metadata": {},
   "outputs": [
    {
     "name": "stdout",
     "output_type": "stream",
     "text": [
      "🍓Strawberry\n",
      "🥕Carrot\n",
      "🍆Eggplant\n",
      "🍅Tomato\n",
      "🥔Potato\n"
     ]
    }
   ],
   "source": [
    "import apache_beam as beam\n",
    "\n",
    "with beam.Pipeline() as pipe:\n",
    "    plants =(\n",
    "        pipe\n",
    "        | 'Gardening plants' >> beam.Create([\n",
    "            '# 🍓Strawberry\\n',\n",
    "            '# 🥕Carrot\\n',\n",
    "            '# 🍆Eggplant\\n',\n",
    "            '# 🍅Tomato\\n',\n",
    "            '# 🥔Potato\\n',\n",
    "        ])\n",
    "        | 'Strip header' >> beam.Map(lambda text: text.strip('# \\n'))\n",
    "        | beam.Map(print)\n",
    "    )"
   ]
  },
  {
   "cell_type": "markdown",
   "metadata": {},
   "source": [
    "\n",
    "## Mapping with Multiple arguments\n",
    "\n",
    "You can pass functions with multiple arguments to `Map`.\n",
    "They are passed as additional positional arguments or keyword arguments to the function.\n",
    "\n",
    "In this example, `strip` takes `text` and `chars` as arguments."
   ]
  },
  {
   "cell_type": "code",
   "execution_count": 4,
   "metadata": {},
   "outputs": [
    {
     "name": "stdout",
     "output_type": "stream",
     "text": [
      "🍓Strawberry\n",
      "🥕Carrot\n",
      "🍆Eggplant\n",
      "🍅Tomato\n",
      "🥔Potato\n"
     ]
    }
   ],
   "source": [
    "import apache_beam as beam\n",
    "\n",
    "def strip(text, chars=None):\n",
    "    return text.strip(chars)\n",
    "\n",
    "with beam.Pipeline() as pipe:\n",
    "    plants = (\n",
    "        pipe\n",
    "        | beam.Create([\n",
    "          '# 🍓Strawberry\\n',\n",
    "          '# 🥕Carrot\\n',\n",
    "          '# 🍆Eggplant\\n',\n",
    "          '# 🍅Tomato\\n',\n",
    "          '# 🥔Potato\\n',\n",
    "        ])\n",
    "        | 'Strip header' >> beam.Map(strip, chars='# \\n')\n",
    "        | beam.Map(print)\n",
    "    )"
   ]
  },
  {
   "cell_type": "markdown",
   "metadata": {},
   "source": [
    "## MapTuple for key-value pairs"
   ]
  },
  {
   "cell_type": "code",
   "execution_count": 5,
   "metadata": {},
   "outputs": [
    {
     "name": "stdout",
     "output_type": "stream",
     "text": [
      "🍓|Strawberry\n",
      "🥕|Carrot\n",
      "🍆|Eggplant\n",
      "🍅|Tomato\n",
      "🥔|Potato\n"
     ]
    }
   ],
   "source": [
    "import apache_beam as beam\n",
    "\n",
    "with beam.Pipeline() as pipeline:\n",
    "    plants = (\n",
    "        pipeline\n",
    "        | 'Gardening plants' >> beam.Create([\n",
    "            ('🍓', 'Strawberry'),\n",
    "            ('🥕', 'Carrot'),\n",
    "            ('🍆', 'Eggplant'),\n",
    "            ('🍅', 'Tomato'),\n",
    "            ('🥔', 'Potato'),\n",
    "        ])\n",
    "        | 'Format' >> beam.MapTuple(lambda icon, plant: f'{icon}|{plant}')\n",
    "        | beam.Map(print)\n",
    "    )"
   ]
  },
  {
   "cell_type": "markdown",
   "metadata": {},
   "source": [
    "## Map with side inputs as singletons\n",
    "\n",
    "If the `PCollection` has a single value, such as the average from another computation,\n",
    "passing the `PCollection` as a *singleton* accesses that value.\n",
    "\n",
    "Side inputs provide a way of passing multiple arguments into the `PTransform` from the result of another pipeline."
   ]
  },
  {
   "cell_type": "code",
   "execution_count": 7,
   "metadata": {},
   "outputs": [
    {
     "name": "stdout",
     "output_type": "stream",
     "text": [
      "🍓Strawberry\n",
      "🥕Carrot\n",
      "🍆Eggplant\n",
      "🍅Tomato\n",
      "🥔Potato\n"
     ]
    }
   ],
   "source": [
    "import apache_beam as beam\n",
    "\n",
    "with beam.Pipeline() as pipe:\n",
    "    char = (pipe | 'Create chars' >> beam.Create(['# \\n']))\n",
    "\n",
    "    plants = (\n",
    "        pipe\n",
    "        | 'Gardening plants' >> beam.Create([\n",
    "            '# 🍓Strawberry\\n',\n",
    "            '# 🥕Carrot\\n',\n",
    "            '# 🍆Eggplant\\n',\n",
    "            '# 🍅Tomato\\n',\n",
    "            '# 🥔Potato\\n',\n",
    "        ])\n",
    "        | 'Strip header' >> beam.Map(\n",
    "            lambda text, chars:\n",
    "            text.strip(chars),\n",
    "            chars=beam.pvalue.AsSingleton(char),\n",
    "        )\n",
    "        | beam.Map(print)\n",
    "    )"
   ]
  },
  {
   "cell_type": "markdown",
   "metadata": {},
   "source": [
    "## Map with side inputs as iterators\n",
    "\n",
    "If the `PCollection` has multiple values, pass the `PCollection` as an *iterator*.\n",
    "This accesses elements lazily as they are needed,\n",
    "so it is possible to iterate over large `PCollection`s that won't fit into memory.\n",
    "\n",
    "> **Note**: You can pass the `PCollection` as a *list* with `beam.pvalue.AsList(pcollection)`,\n",
    "> but this requires that all the elements fit into memory.\n"
   ]
  },
  {
   "cell_type": "code",
   "execution_count": 13,
   "metadata": {},
   "outputs": [
    {
     "name": "stdout",
     "output_type": "stream",
     "text": [
      "🍓Strawberry\n",
      "🥕Carrot\n",
      "🍆Eggplant\n",
      "🍅Tomato\n",
      "🥔Potato\n"
     ]
    }
   ],
   "source": [
    "import apache_beam as beam\n",
    "\n",
    "with beam.Pipeline() as pipe:\n",
    "    chars = pipe | 'Create chars' >> beam.Create([\"#\", ' ', '\\n'])\n",
    "\n",
    "    plants = (\n",
    "        pipe\n",
    "        | 'Gardening plants' >> beam.Create([\n",
    "            '# 🍓Strawberry\\n',\n",
    "            '# 🥕Carrot\\n',\n",
    "            '# 🍆Eggplant\\n',\n",
    "            '# 🍅Tomato\\n',\n",
    "            '# 🥔Potato\\n',\n",
    "        ])\n",
    "        | 'Strip header' >> beam.Map(\n",
    "            lambda text, chars:\n",
    "            text.strip(''.join(chars)),\n",
    "            chars=beam.pvalue.AsIter(chars),\n",
    "        )\n",
    "        | beam.Map(print)\n",
    "    )"
   ]
  },
  {
   "cell_type": "markdown",
   "metadata": {},
   "source": [
    "> ### Map with side inputs as dictionaries\n",
    "\n",
    "If a `PCollection` is small enough to fit into memory, then that `PCollection` can be passed as a *dictionary*.\n",
    "Each element must be a `(key, value)` pair.\n",
    "Note that all the elements of the `PCollection` must fit into memory for this.\n",
    "If the `PCollection` won't fit into memory, use `beam.pvalue.AsIter(pcollection)` instead."
   ]
  },
  {
   "cell_type": "code",
   "execution_count": 14,
   "metadata": {},
   "outputs": [
    {
     "name": "stdout",
     "output_type": "stream",
     "text": [
      "{'icon': '🍓', 'name': 'Strawberry', 'duration': 'perennial'}\n",
      "{'icon': '🥕', 'name': 'Carrot', 'duration': 'biennial'}\n",
      "{'icon': '🍆', 'name': 'Eggplant', 'duration': 'perennial'}\n",
      "{'icon': '🍅', 'name': 'Tomato', 'duration': 'annual'}\n",
      "{'icon': '🥔', 'name': 'Potato', 'duration': 'perennial'}\n"
     ]
    }
   ],
   "source": [
    "import apache_beam as beam\n",
    "\n",
    "def replace_duration(plant, durations):\n",
    "    plant['duration'] = durations[plant['duration']]\n",
    "    return plant\n",
    "\n",
    "with beam.Pipeline() as pipeline:\n",
    "    durations = pipeline | \"Durations\" >> beam.Create([\n",
    "        (0, 'annual'),\n",
    "        (1, 'biennial'),\n",
    "        (2, 'perennial'),\n",
    "    ])\n",
    "\n",
    "    plants_details = (\n",
    "        pipeline\n",
    "        | 'Gardening plants' >> beam.Create([\n",
    "          {'icon': '🍓', 'name': 'Strawberry', 'duration': 2},\n",
    "          {'icon': '🥕', 'name': 'Carrot', 'duration': 1},\n",
    "          {'icon': '🍆', 'name': 'Eggplant', 'duration': 2},\n",
    "          {'icon': '🍅', 'name': 'Tomato', 'duration': 0},\n",
    "          {'icon': '🥔', 'name': 'Potato', 'duration': 2},\n",
    "        ])\n",
    "        | 'Replace duration' >> beam.Map(\n",
    "            replace_duration,\n",
    "            durations=beam.pvalue.AsDict(durations),\n",
    "        )\n",
    "        | beam.Map(print)\n",
    "    )"
   ]
  },
  {
   "cell_type": "code",
   "execution_count": null,
   "metadata": {},
   "outputs": [],
   "source": []
  },
  {
   "cell_type": "code",
   "execution_count": null,
   "metadata": {},
   "outputs": [],
   "source": []
  },
  {
   "cell_type": "code",
   "execution_count": null,
   "metadata": {},
   "outputs": [],
   "source": []
  },
  {
   "cell_type": "code",
   "execution_count": null,
   "metadata": {},
   "outputs": [],
   "source": []
  }
 ],
 "metadata": {
  "kernelspec": {
   "display_name": ".venv",
   "language": "python",
   "name": "python3"
  },
  "language_info": {
   "codemirror_mode": {
    "name": "ipython",
    "version": 3
   },
   "file_extension": ".py",
   "mimetype": "text/x-python",
   "name": "python",
   "nbconvert_exporter": "python",
   "pygments_lexer": "ipython3",
   "version": "3.12.1"
  }
 },
 "nbformat": 4,
 "nbformat_minor": 2
}
